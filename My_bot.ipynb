{
 "cells": [
  {
   "cell_type": "code",
   "execution_count": null,
   "id": "3b409a7f",
   "metadata": {},
   "outputs": [],
   "source": [
    "\n",
    "\n",
    "import app\n",
    "\n",
    "options = Options()\n",
    "options.page_load_strategy = 'normal'\n",
    "\n",
    "# locators\n",
    "# keeping the browser open\n",
    "options.add_experimental_option(\"detach\", True)\n",
    "\n",
    "\n",
    "# assigning webdriver to a variable for further use\n",
    "driver = webdriver.Chrome(options=options)\n"
   ]
  },
  {
   "cell_type": "code",
   "execution_count": null,
   "id": "80606ad7",
   "metadata": {},
   "outputs": [],
   "source": [
    "request_urls"
   ]
  },
  {
   "cell_type": "code",
   "execution_count": null,
   "id": "afb6f9a3",
   "metadata": {},
   "outputs": [],
   "source": []
  },
  {
   "cell_type": "code",
   "execution_count": null,
   "id": "6ce0e589",
   "metadata": {},
   "outputs": [],
   "source": []
  }
 ],
 "metadata": {
  "kernelspec": {
   "display_name": "Python 3 (ipykernel)",
   "language": "python",
   "name": "python3"
  },
  "language_info": {
   "codemirror_mode": {
    "name": "ipython",
    "version": 3
   },
   "file_extension": ".py",
   "mimetype": "text/x-python",
   "name": "python",
   "nbconvert_exporter": "python",
   "pygments_lexer": "ipython3",
   "version": "3.10.6"
  }
 },
 "nbformat": 4,
 "nbformat_minor": 5
}
