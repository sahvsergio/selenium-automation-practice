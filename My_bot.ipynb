{
 "cells": [
  {
   "cell_type": "code",
   "execution_count": 1,
   "id": "3b409a7f",
   "metadata": {},
   "outputs": [
    {
     "data": {
      "text/html": [
       "<pre style=\"white-space:pre;overflow-x:auto;line-height:normal;font-family:Menlo,'DejaVu Sans Mono',consolas,'Courier New',monospace\">Please enter the number of tabs to open: </pre>\n"
      ],
      "text/plain": [
       "Please enter the number of tabs to open: "
      ]
     },
     "metadata": {},
     "output_type": "display_data"
    },
    {
     "name": "stdout",
     "output_type": "stream",
     "text": [
      "3\n"
     ]
    },
    {
     "data": {
      "text/html": [
       "<pre style=\"white-space:pre;overflow-x:auto;line-height:normal;font-family:Menlo,'DejaVu Sans Mono',consolas,'Courier New',monospace\">Please provide the site that you would like to visit: </pre>\n"
      ],
      "text/plain": [
       "Please provide the site that you would like to visit: "
      ]
     },
     "metadata": {},
     "output_type": "display_data"
    },
    {
     "name": "stdout",
     "output_type": "stream",
     "text": [
      "https://www.buscalibre.com\n"
     ]
    },
    {
     "data": {
      "text/html": [
       "<pre style=\"white-space:pre;overflow-x:auto;line-height:normal;font-family:Menlo,'DejaVu Sans Mono',consolas,'Courier New',monospace\">Please provide the site that you would like to visit: </pre>\n"
      ],
      "text/plain": [
       "Please provide the site that you would like to visit: "
      ]
     },
     "metadata": {},
     "output_type": "display_data"
    },
    {
     "name": "stdout",
     "output_type": "stream",
     "text": [
      "https://www.elcolombiano.com\n"
     ]
    },
    {
     "data": {
      "text/html": [
       "<pre style=\"white-space:pre;overflow-x:auto;line-height:normal;font-family:Menlo,'DejaVu Sans Mono',consolas,'Courier New',monospace\">Please provide the site that you would like to visit: </pre>\n"
      ],
      "text/plain": [
       "Please provide the site that you would like to visit: "
      ]
     },
     "metadata": {},
     "output_type": "display_data"
    },
    {
     "name": "stdout",
     "output_type": "stream",
     "text": [
      "https://www.computrabajo.com\n"
     ]
    },
    {
     "ename": "AttributeError",
     "evalue": "'SwitchTo' object has no attribute 'new_window'",
     "output_type": "error",
     "traceback": [
      "\u001b[0;31m---------------------------------------------------------------------------\u001b[0m",
      "\u001b[0;31mAttributeError\u001b[0m                            Traceback (most recent call last)",
      "Input \u001b[0;32mIn [1]\u001b[0m, in \u001b[0;36m<cell line: 1>\u001b[0;34m()\u001b[0m\n\u001b[0;32m----> 1\u001b[0m \u001b[38;5;28;01mfrom\u001b[39;00m \u001b[38;5;21;01mgookonder\u001b[39;00m \u001b[38;5;28;01mimport\u001b[39;00m \u001b[38;5;241m*\u001b[39m\n",
      "File \u001b[0;32m~/Documents/projects/python_projects/selenium-automation-practice/gookonder.py:115\u001b[0m, in \u001b[0;36m<module>\u001b[0;34m\u001b[0m\n\u001b[1;32m    113\u001b[0m many_tabs \u001b[38;5;241m=\u001b[39m request_number_of_tabs()\n\u001b[1;32m    114\u001b[0m sites \u001b[38;5;241m=\u001b[39m request_sites_to_open(many_tabs)\n\u001b[0;32m--> 115\u001b[0m browsers_tabs \u001b[38;5;241m=\u001b[39m \u001b[43mopen_browser\u001b[49m\u001b[43m(\u001b[49m\u001b[43msites\u001b[49m\u001b[43m)\u001b[49m\n\u001b[1;32m    118\u001b[0m saved_bookmars \u001b[38;5;241m=\u001b[39m save_bookmarks(sites)\n\u001b[1;32m    119\u001b[0m mouse\u001b[38;5;241m=\u001b[39m track_mouse()\n",
      "File \u001b[0;32m~/Documents/projects/python_projects/selenium-automation-practice/gookonder.py:70\u001b[0m, in \u001b[0;36mopen_browser\u001b[0;34m(sites_to_open)\u001b[0m\n\u001b[1;32m     68\u001b[0m         driver\u001b[38;5;241m.\u001b[39mget(site)\n\u001b[1;32m     69\u001b[0m         original_window\u001b[38;5;241m=\u001b[39mdriver\u001b[38;5;241m.\u001b[39mcurrent_window_handle\n\u001b[0;32m---> 70\u001b[0m         \u001b[43mdriver\u001b[49m\u001b[38;5;241;43m.\u001b[39;49m\u001b[43mswitch_to\u001b[49m\u001b[38;5;241;43m.\u001b[39;49m\u001b[43mnew_window\u001b[49m(\u001b[38;5;124m'\u001b[39m\u001b[38;5;124mtab\u001b[39m\u001b[38;5;124m'\u001b[39m)\n\u001b[1;32m     71\u001b[0m \u001b[38;5;66;03m#close the last tab from the loop\u001b[39;00m\n\u001b[1;32m     72\u001b[0m driver\u001b[38;5;241m.\u001b[39mclose()\n",
      "\u001b[0;31mAttributeError\u001b[0m: 'SwitchTo' object has no attribute 'new_window'"
     ]
    }
   ],
   "source": [
    "from gookonder import *"
   ]
  },
  {
   "cell_type": "code",
   "execution_count": null,
   "id": "ecc7b1d7",
   "metadata": {},
   "outputs": [],
   "source": []
  }
 ],
 "metadata": {
  "kernelspec": {
   "display_name": "Python 3 (ipykernel)",
   "language": "python",
   "name": "python3"
  },
  "language_info": {
   "codemirror_mode": {
    "name": "ipython",
    "version": 3
   },
   "file_extension": ".py",
   "mimetype": "text/x-python",
   "name": "python",
   "nbconvert_exporter": "python",
   "pygments_lexer": "ipython3",
   "version": "3.10.6"
  }
 },
 "nbformat": 4,
 "nbformat_minor": 5
}
